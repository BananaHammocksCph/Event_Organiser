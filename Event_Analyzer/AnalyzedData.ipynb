{
 "cells": [
  {
   "cell_type": "code",
   "execution_count": 376,
   "metadata": {},
   "outputs": [],
   "source": [
    "import csv \n",
    "import json \n",
    "import pandas as pd  "
   ]
  },
  {
   "cell_type": "code",
   "execution_count": 377,
   "metadata": {},
   "outputs": [],
   "source": [
    "#Ignored/Not used, not sure if needed to introduce a Hateaos REST approach. \n",
    "#from flask import Flask \n",
    "#from flask_restplus import Resource, Api\n",
    "#app = Flask(\"AnalyzedData\")\n",
    "\n",
    "#@app.route('/analyzed') \n",
    "#@api.doc(params={})\n",
    "#class AnalyzedData(Resource):\n",
    "#    def get():\n",
    "#        return eventdata.json \n",
    "#    \n",
    "#if __name__== \"__main__\": \n",
    "#   app.run(host=HOSTNAME, debug=True) "
   ]
  },
  {
   "cell_type": "code",
   "execution_count": 378,
   "metadata": {},
   "outputs": [
    {
     "data": {
      "text/html": [
       "<div>\n",
       "<style scoped>\n",
       "    .dataframe tbody tr th:only-of-type {\n",
       "        vertical-align: middle;\n",
       "    }\n",
       "\n",
       "    .dataframe tbody tr th {\n",
       "        vertical-align: top;\n",
       "    }\n",
       "\n",
       "    .dataframe thead th {\n",
       "        text-align: right;\n",
       "    }\n",
       "</style>\n",
       "<table border=\"1\" class=\"dataframe\">\n",
       "  <thead>\n",
       "    <tr style=\"text-align: right;\">\n",
       "      <th></th>\n",
       "      <th>_id</th>\n",
       "      <th>Users</th>\n",
       "      <th>Type</th>\n",
       "    </tr>\n",
       "  </thead>\n",
       "  <tbody>\n",
       "    <tr>\n",
       "      <th>0</th>\n",
       "      <td>ObjectId(5df172e2cd46ec15c3fbe987)</td>\n",
       "      <td>[{\"$oid\":\"5df204961d448316e0c69998\"},{\"$oid\":\"...</td>\n",
       "      <td>PARTY</td>\n",
       "    </tr>\n",
       "    <tr>\n",
       "      <th>1</th>\n",
       "      <td>ObjectId(5df20b9e1d448316e0c6999d)</td>\n",
       "      <td>[{\"$oid\":\"5df204961d448316e0c69998\"},{\"$oid\":\"...</td>\n",
       "      <td>MEETING</td>\n",
       "    </tr>\n",
       "    <tr>\n",
       "      <th>2</th>\n",
       "      <td>ObjectId(5df20f0e1d448316e0c699a4)</td>\n",
       "      <td>[{\"$oid\":\"5df204961d448316e0c69998\"},{\"$oid\":\"...</td>\n",
       "      <td>PARTY</td>\n",
       "    </tr>\n",
       "    <tr>\n",
       "      <th>3</th>\n",
       "      <td>ObjectId(5df20fc11d448316e0c699a5)</td>\n",
       "      <td>[]</td>\n",
       "      <td>LECTURE</td>\n",
       "    </tr>\n",
       "    <tr>\n",
       "      <th>4</th>\n",
       "      <td>ObjectId(5df230123044cc4f089cfa06)</td>\n",
       "      <td>[{\"$oid\":\"5df204961d448316e0c69998\"},{\"$oid\":\"...</td>\n",
       "      <td>LECTURE</td>\n",
       "    </tr>\n",
       "    <tr>\n",
       "      <th>5</th>\n",
       "      <td>ObjectId(5df242bd3044cc4f089cfa09)</td>\n",
       "      <td>[{\"$oid\":\"5df204961d448316e0c69998\"},{\"$oid\":\"...</td>\n",
       "      <td>LECTURE</td>\n",
       "    </tr>\n",
       "  </tbody>\n",
       "</table>\n",
       "</div>"
      ],
      "text/plain": [
       "                                  _id  \\\n",
       "0  ObjectId(5df172e2cd46ec15c3fbe987)   \n",
       "1  ObjectId(5df20b9e1d448316e0c6999d)   \n",
       "2  ObjectId(5df20f0e1d448316e0c699a4)   \n",
       "3  ObjectId(5df20fc11d448316e0c699a5)   \n",
       "4  ObjectId(5df230123044cc4f089cfa06)   \n",
       "5  ObjectId(5df242bd3044cc4f089cfa09)   \n",
       "\n",
       "                                               Users     Type  \n",
       "0  [{\"$oid\":\"5df204961d448316e0c69998\"},{\"$oid\":\"...    PARTY  \n",
       "1  [{\"$oid\":\"5df204961d448316e0c69998\"},{\"$oid\":\"...  MEETING  \n",
       "2  [{\"$oid\":\"5df204961d448316e0c69998\"},{\"$oid\":\"...    PARTY  \n",
       "3                                                 []  LECTURE  \n",
       "4  [{\"$oid\":\"5df204961d448316e0c69998\"},{\"$oid\":\"...  LECTURE  \n",
       "5  [{\"$oid\":\"5df204961d448316e0c69998\"},{\"$oid\":\"...  LECTURE  "
      ]
     },
     "execution_count": 378,
     "metadata": {},
     "output_type": "execute_result"
    }
   ],
   "source": [
    "df = pd.read_csv(r'./eventDump.csv')\n",
    "df"
   ]
  },
  {
   "cell_type": "code",
   "execution_count": 379,
   "metadata": {},
   "outputs": [
    {
     "data": {
      "text/plain": [
       "['_id', 'Users', 'Type']"
      ]
     },
     "execution_count": 379,
     "metadata": {},
     "output_type": "execute_result"
    }
   ],
   "source": [
    "#Print all columns\n",
    "df.columns.tolist()"
   ]
  },
  {
   "cell_type": "code",
   "execution_count": 380,
   "metadata": {},
   "outputs": [
    {
     "name": "stdout",
     "output_type": "stream",
     "text": [
      "+----+------------------------------------+---------------------------------------------------------------------------------------------------------------------------------------------------------------------------------------------------------------------------------------------------------------------------------------------------------------------------------------------------------------------------+---------+\n",
      "|    | _id                                | Users                                                                                                                                                                                                                                                                                                                                                                     | Type    |\n",
      "|----+------------------------------------+---------------------------------------------------------------------------------------------------------------------------------------------------------------------------------------------------------------------------------------------------------------------------------------------------------------------------------------------------------------------------+---------|\n",
      "|  0 | ObjectId(5df172e2cd46ec15c3fbe987) | [{\"$oid\":\"5df204961d448316e0c69998\"},{\"$oid\":\"5df204961d448316e0c69998\"},{\"$oid\":\"5df204961d448316e0c69998\"},{\"$oid\":\"5df204961d448316e0c69998\"},{\"$oid\":\"5df204961d448316e0c69998\"}]                                                                                                                                                                                     | PARTY   |\n",
      "|  1 | ObjectId(5df20b9e1d448316e0c6999d) | [{\"$oid\":\"5df204961d448316e0c69998\"},{\"$oid\":\"5df204961d448316e0c69998\"},{\"$oid\":\"5df204961d448316e0c69998\"},{\"$oid\":\"5df204961d448316e0c69998\"},{\"$oid\":\"5df204961d448316e0c69998\"},{\"$oid\":\"5df204961d448316e0c69998\"}]                                                                                                                                                 | MEETING |\n",
      "|  2 | ObjectId(5df20f0e1d448316e0c699a4) | [{\"$oid\":\"5df204961d448316e0c69998\"},{\"$oid\":\"5df204961d448316e0c69998\"}]                                                                                                                                                                                                                                                                                                 | PARTY   |\n",
      "|  3 | ObjectId(5df20fc11d448316e0c699a5) | []                                                                                                                                                                                                                                                                                                                                                                        | LECTURE |\n",
      "|  4 | ObjectId(5df230123044cc4f089cfa06) | [{\"$oid\":\"5df204961d448316e0c69998\"},{\"$oid\":\"5df204961d448316e0c69998\"},{\"$oid\":\"5df204961d448316e0c69998\"}]                                                                                                                                                                                                                                                             | LECTURE |\n",
      "|  5 | ObjectId(5df242bd3044cc4f089cfa09) | [{\"$oid\":\"5df204961d448316e0c69998\"},{\"$oid\":\"5df204961d448316e0c69998\"},{\"$oid\":\"5df204961d448316e0c69998\"},{\"$oid\":\"5df204961d448316e0c69998\"},{\"$oid\":\"5df204961d448316e0c69998\"},{\"$oid\":\"5df204961d448316e0c69998\"},{\"$oid\":\"5df204961d448316e0c69998\"},{\"$oid\":\"5df204961d448316e0c69998\"},{\"$oid\":\"5df204961d448316e0c69998\"},{\"$oid\":\"5df204961d448316e0c69998\"}] | LECTURE |\n",
      "+----+------------------------------------+---------------------------------------------------------------------------------------------------------------------------------------------------------------------------------------------------------------------------------------------------------------------------------------------------------------------------------------------------------------------------+---------+\n"
     ]
    }
   ],
   "source": [
    "#Set and display headers by Index first\n",
    "from tabulate import tabulate \n",
    "df.set_index(['Type', 'Users'])\n",
    "\n",
    "print(tabulate(df, headers='keys', tablefmt='psql'))"
   ]
  },
  {
   "cell_type": "code",
   "execution_count": 381,
   "metadata": {},
   "outputs": [
    {
     "name": "stdout",
     "output_type": "stream",
     "text": [
      "      Type  Users\n",
      "0  LECTURE      3\n",
      "1  MEETING      1\n",
      "2    PARTY      2\n"
     ]
    }
   ],
   "source": [
    "df = df.groupby(by='Type', as_index=False).agg({'Users' : pd.Series.nunique})\n",
    "print(df)"
   ]
  },
  {
   "cell_type": "code",
   "execution_count": 382,
   "metadata": {},
   "outputs": [],
   "source": [
    "# If we need it, we can spew out an HTML file at the path and add it into a body or somewhere to have it displayed. \n",
    "df.to_html('analyzedData.html')"
   ]
  },
  {
   "cell_type": "code",
   "execution_count": 383,
   "metadata": {},
   "outputs": [],
   "source": [
    "# Quick little nifty thing that parses our .csv into .json ;-) \n",
    "csvFilePath = 'eventDump.csv'\n",
    "jsonFilePath = 'eventdata.json'\n",
    "\n",
    "data = {}\n",
    "with open(csvFilePath) as csvFile:\n",
    "    csvReader = csv.DictReader(csvFile)\n",
    "    for rows in csvReader:\n",
    "        id = rows['_id']\n",
    "        data[id] = rows\n",
    "        \n",
    "with open(jsonFilePath, 'w') as jsonFile:\n",
    "    jsonFile.write(json.dumps(data, indent=4)) \n",
    "    \n",
    "# Could use jQuery's $.getJSON function if we wanted to smack it into an HTML body. \n",
    "# or HTML DOM function: document.getElementByID(''); "
   ]
  }
 ],
 "metadata": {
  "kernelspec": {
   "display_name": "Python 3",
   "language": "python",
   "name": "python3"
  },
  "language_info": {
   "codemirror_mode": {
    "name": "ipython",
    "version": 3
   },
   "file_extension": ".py",
   "mimetype": "text/x-python",
   "name": "python",
   "nbconvert_exporter": "python",
   "pygments_lexer": "ipython3",
   "version": "3.6.8"
  }
 },
 "nbformat": 4,
 "nbformat_minor": 2
}
